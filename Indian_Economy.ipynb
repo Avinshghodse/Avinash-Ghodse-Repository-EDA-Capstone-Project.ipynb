{
  "nbformat": 4,
  "nbformat_minor": 0,
  "metadata": {
    "colab": {
      "provenance": [],
      "authorship_tag": "ABX9TyP0BQHJLibJK8yo5M3uo3eG",
      "include_colab_link": true
    },
    "kernelspec": {
      "name": "python3",
      "display_name": "Python 3"
    },
    "language_info": {
      "name": "python"
    }
  },
  "cells": [
    {
      "cell_type": "markdown",
      "metadata": {
        "id": "view-in-github",
        "colab_type": "text"
      },
      "source": [
        "<a href=\"https://colab.research.google.com/github/Avinshghodse/Avinash-Ghodse-Repository-EDA-Capstone-Project.ipynb/blob/main/Indian_Economy.ipynb\" target=\"_parent\"><img src=\"https://colab.research.google.com/assets/colab-badge.svg\" alt=\"Open In Colab\"/></a>"
      ]
    },
    {
      "cell_type": "markdown",
      "source": [
        "# Economy of the Indian subcontinent was the largest in the world for most of the recorded history up until the onset of colonialism in early 19th century. The economy of India is a middle income developing market economy. It is the world's fifth-largest economy by nominal GDP putting the Asian powerhouse behind the US, China, Japan and Germany and the third-largest by purchasing power parity (PPP). The long-term growth perspective of the Indian economy remains positive due to its young population and corresponding low dependency ratio, healthy savings, and investment rates, increasing globalisation in India and integration into the global economy.\n",
        "#This Dataset contains data on key indicators of India's economy from year 1960 to 2020."
      ],
      "metadata": {
        "id": "bLXu6U7KdxJ6"
      }
    },
    {
      "cell_type": "code",
      "execution_count": null,
      "metadata": {
        "id": "c111SynaSig9"
      },
      "outputs": [],
      "source": [
        "# Import some required libraries\n",
        "import pandas as pd\n",
        "import numpy as np\n",
        "\n",
        "import seaborn as sns\n",
        "import matplotlib.pyplot as plt\n",
        "sns.set()\n",
        "%matplotlib inline\n"
      ]
    },
    {
      "cell_type": "code",
      "source": [
        "eco_path = '/content/indianEco.csv'\n",
        "\n",
        "eco_df = pd.read_csv(eco_path)\n",
        "eco_df.head()"
      ],
      "metadata": {
        "colab": {
          "base_uri": "https://localhost:8080/",
          "height": 285
        },
        "id": "YPpyv6ayXt4w",
        "outputId": "d0f48647-656b-4320-b688-111b95694409"
      },
      "execution_count": null,
      "outputs": [
        {
          "output_type": "execute_result",
          "data": {
            "text/plain": [
              "   Year Country Name    GDP in USD  GDP per capita current USD  \\\n",
              "0  1960        India  3.702988e+10                          82   \n",
              "1  1961        India  3.923244e+10                          85   \n",
              "2  1962        India  4.216148e+10                          90   \n",
              "3  1963        India  4.842192e+10                         101   \n",
              "4  1964        India  5.648029e+10                         116   \n",
              "\n",
              "   GDP growth annual %  Imports of goods and services % of GDP  \\\n",
              "0                 0.00                                    6.83   \n",
              "1                 3.72                                    5.96   \n",
              "2                 2.93                                    6.03   \n",
              "3                 5.99                                    5.91   \n",
              "4                 7.45                                    5.69   \n",
              "\n",
              "   Exports of goods and services % of GDP  \\\n",
              "0                                    4.46   \n",
              "1                                    4.30   \n",
              "2                                    4.17   \n",
              "3                                    4.28   \n",
              "4                                    3.73   \n",
              "\n",
              "   Total reserves includes gold current USD  \\\n",
              "0                               674536630.9   \n",
              "1                               666357094.9   \n",
              "2                               512791844.0   \n",
              "3                               607862500.4   \n",
              "4                               499145125.8   \n",
              "\n",
              "   Inflation consumer prices annual %  Population  Population growth annual %  \\\n",
              "0                                1.78   445954579                        2.31   \n",
              "1                                1.70   456351876                        2.33   \n",
              "2                                3.63   467024193                        2.34   \n",
              "3                                2.95   477933619                        2.34   \n",
              "4                               13.36   489059309                        2.33   \n",
              "\n",
              "   Life expectancy at birth total years  \n",
              "0                                 41.13  \n",
              "1                                 41.74  \n",
              "2                                 42.34  \n",
              "3                                 42.94  \n",
              "4                                 43.57  "
            ],
            "text/html": [
              "\n",
              "  <div id=\"df-7191d179-a2db-4afe-873c-80e639e69d4e\">\n",
              "    <div class=\"colab-df-container\">\n",
              "      <div>\n",
              "<style scoped>\n",
              "    .dataframe tbody tr th:only-of-type {\n",
              "        vertical-align: middle;\n",
              "    }\n",
              "\n",
              "    .dataframe tbody tr th {\n",
              "        vertical-align: top;\n",
              "    }\n",
              "\n",
              "    .dataframe thead th {\n",
              "        text-align: right;\n",
              "    }\n",
              "</style>\n",
              "<table border=\"1\" class=\"dataframe\">\n",
              "  <thead>\n",
              "    <tr style=\"text-align: right;\">\n",
              "      <th></th>\n",
              "      <th>Year</th>\n",
              "      <th>Country Name</th>\n",
              "      <th>GDP in USD</th>\n",
              "      <th>GDP per capita current USD</th>\n",
              "      <th>GDP growth annual %</th>\n",
              "      <th>Imports of goods and services % of GDP</th>\n",
              "      <th>Exports of goods and services % of GDP</th>\n",
              "      <th>Total reserves includes gold current USD</th>\n",
              "      <th>Inflation consumer prices annual %</th>\n",
              "      <th>Population</th>\n",
              "      <th>Population growth annual %</th>\n",
              "      <th>Life expectancy at birth total years</th>\n",
              "    </tr>\n",
              "  </thead>\n",
              "  <tbody>\n",
              "    <tr>\n",
              "      <th>0</th>\n",
              "      <td>1960</td>\n",
              "      <td>India</td>\n",
              "      <td>3.702988e+10</td>\n",
              "      <td>82</td>\n",
              "      <td>0.00</td>\n",
              "      <td>6.83</td>\n",
              "      <td>4.46</td>\n",
              "      <td>674536630.9</td>\n",
              "      <td>1.78</td>\n",
              "      <td>445954579</td>\n",
              "      <td>2.31</td>\n",
              "      <td>41.13</td>\n",
              "    </tr>\n",
              "    <tr>\n",
              "      <th>1</th>\n",
              "      <td>1961</td>\n",
              "      <td>India</td>\n",
              "      <td>3.923244e+10</td>\n",
              "      <td>85</td>\n",
              "      <td>3.72</td>\n",
              "      <td>5.96</td>\n",
              "      <td>4.30</td>\n",
              "      <td>666357094.9</td>\n",
              "      <td>1.70</td>\n",
              "      <td>456351876</td>\n",
              "      <td>2.33</td>\n",
              "      <td>41.74</td>\n",
              "    </tr>\n",
              "    <tr>\n",
              "      <th>2</th>\n",
              "      <td>1962</td>\n",
              "      <td>India</td>\n",
              "      <td>4.216148e+10</td>\n",
              "      <td>90</td>\n",
              "      <td>2.93</td>\n",
              "      <td>6.03</td>\n",
              "      <td>4.17</td>\n",
              "      <td>512791844.0</td>\n",
              "      <td>3.63</td>\n",
              "      <td>467024193</td>\n",
              "      <td>2.34</td>\n",
              "      <td>42.34</td>\n",
              "    </tr>\n",
              "    <tr>\n",
              "      <th>3</th>\n",
              "      <td>1963</td>\n",
              "      <td>India</td>\n",
              "      <td>4.842192e+10</td>\n",
              "      <td>101</td>\n",
              "      <td>5.99</td>\n",
              "      <td>5.91</td>\n",
              "      <td>4.28</td>\n",
              "      <td>607862500.4</td>\n",
              "      <td>2.95</td>\n",
              "      <td>477933619</td>\n",
              "      <td>2.34</td>\n",
              "      <td>42.94</td>\n",
              "    </tr>\n",
              "    <tr>\n",
              "      <th>4</th>\n",
              "      <td>1964</td>\n",
              "      <td>India</td>\n",
              "      <td>5.648029e+10</td>\n",
              "      <td>116</td>\n",
              "      <td>7.45</td>\n",
              "      <td>5.69</td>\n",
              "      <td>3.73</td>\n",
              "      <td>499145125.8</td>\n",
              "      <td>13.36</td>\n",
              "      <td>489059309</td>\n",
              "      <td>2.33</td>\n",
              "      <td>43.57</td>\n",
              "    </tr>\n",
              "  </tbody>\n",
              "</table>\n",
              "</div>\n",
              "      <button class=\"colab-df-convert\" onclick=\"convertToInteractive('df-7191d179-a2db-4afe-873c-80e639e69d4e')\"\n",
              "              title=\"Convert this dataframe to an interactive table.\"\n",
              "              style=\"display:none;\">\n",
              "        \n",
              "  <svg xmlns=\"http://www.w3.org/2000/svg\" height=\"24px\"viewBox=\"0 0 24 24\"\n",
              "       width=\"24px\">\n",
              "    <path d=\"M0 0h24v24H0V0z\" fill=\"none\"/>\n",
              "    <path d=\"M18.56 5.44l.94 2.06.94-2.06 2.06-.94-2.06-.94-.94-2.06-.94 2.06-2.06.94zm-11 1L8.5 8.5l.94-2.06 2.06-.94-2.06-.94L8.5 2.5l-.94 2.06-2.06.94zm10 10l.94 2.06.94-2.06 2.06-.94-2.06-.94-.94-2.06-.94 2.06-2.06.94z\"/><path d=\"M17.41 7.96l-1.37-1.37c-.4-.4-.92-.59-1.43-.59-.52 0-1.04.2-1.43.59L10.3 9.45l-7.72 7.72c-.78.78-.78 2.05 0 2.83L4 21.41c.39.39.9.59 1.41.59.51 0 1.02-.2 1.41-.59l7.78-7.78 2.81-2.81c.8-.78.8-2.07 0-2.86zM5.41 20L4 18.59l7.72-7.72 1.47 1.35L5.41 20z\"/>\n",
              "  </svg>\n",
              "      </button>\n",
              "      \n",
              "  <style>\n",
              "    .colab-df-container {\n",
              "      display:flex;\n",
              "      flex-wrap:wrap;\n",
              "      gap: 12px;\n",
              "    }\n",
              "\n",
              "    .colab-df-convert {\n",
              "      background-color: #E8F0FE;\n",
              "      border: none;\n",
              "      border-radius: 50%;\n",
              "      cursor: pointer;\n",
              "      display: none;\n",
              "      fill: #1967D2;\n",
              "      height: 32px;\n",
              "      padding: 0 0 0 0;\n",
              "      width: 32px;\n",
              "    }\n",
              "\n",
              "    .colab-df-convert:hover {\n",
              "      background-color: #E2EBFA;\n",
              "      box-shadow: 0px 1px 2px rgba(60, 64, 67, 0.3), 0px 1px 3px 1px rgba(60, 64, 67, 0.15);\n",
              "      fill: #174EA6;\n",
              "    }\n",
              "\n",
              "    [theme=dark] .colab-df-convert {\n",
              "      background-color: #3B4455;\n",
              "      fill: #D2E3FC;\n",
              "    }\n",
              "\n",
              "    [theme=dark] .colab-df-convert:hover {\n",
              "      background-color: #434B5C;\n",
              "      box-shadow: 0px 1px 3px 1px rgba(0, 0, 0, 0.15);\n",
              "      filter: drop-shadow(0px 1px 2px rgba(0, 0, 0, 0.3));\n",
              "      fill: #FFFFFF;\n",
              "    }\n",
              "  </style>\n",
              "\n",
              "      <script>\n",
              "        const buttonEl =\n",
              "          document.querySelector('#df-7191d179-a2db-4afe-873c-80e639e69d4e button.colab-df-convert');\n",
              "        buttonEl.style.display =\n",
              "          google.colab.kernel.accessAllowed ? 'block' : 'none';\n",
              "\n",
              "        async function convertToInteractive(key) {\n",
              "          const element = document.querySelector('#df-7191d179-a2db-4afe-873c-80e639e69d4e');\n",
              "          const dataTable =\n",
              "            await google.colab.kernel.invokeFunction('convertToInteractive',\n",
              "                                                     [key], {});\n",
              "          if (!dataTable) return;\n",
              "\n",
              "          const docLinkHtml = 'Like what you see? Visit the ' +\n",
              "            '<a target=\"_blank\" href=https://colab.research.google.com/notebooks/data_table.ipynb>data table notebook</a>'\n",
              "            + ' to learn more about interactive tables.';\n",
              "          element.innerHTML = '';\n",
              "          dataTable['output_type'] = 'display_data';\n",
              "          await google.colab.output.renderOutput(dataTable, element);\n",
              "          const docLink = document.createElement('div');\n",
              "          docLink.innerHTML = docLinkHtml;\n",
              "          element.appendChild(docLink);\n",
              "        }\n",
              "      </script>\n",
              "    </div>\n",
              "  </div>\n",
              "  "
            ]
          },
          "metadata": {},
          "execution_count": 2
        }
      ]
    },
    {
      "cell_type": "code",
      "source": [
        "# Let us check using shape() how much rows and columns are provided by dataset\n",
        "eco_df.shape"
      ],
      "metadata": {
        "colab": {
          "base_uri": "https://localhost:8080/"
        },
        "id": "3et3RlvvYYZs",
        "outputId": "ea4c92db-6096-4504-9cf1-2a17282f771f"
      },
      "execution_count": null,
      "outputs": [
        {
          "output_type": "execute_result",
          "data": {
            "text/plain": [
              "(61, 12)"
            ]
          },
          "metadata": {},
          "execution_count": 3
        }
      ]
    },
    {
      "cell_type": "markdown",
      "source": [
        "Observation :\n",
        "\n",
        "* We can see in this dataset there are 61 row and 12 columns."
      ],
      "metadata": {
        "id": "U0y9ab2oYfIX"
      }
    },
    {
      "cell_type": "code",
      "source": [
        "# lets check information about dataset\n",
        "eco_df.info()"
      ],
      "metadata": {
        "colab": {
          "base_uri": "https://localhost:8080/"
        },
        "id": "d3rnFGLeYwT_",
        "outputId": "53c964b2-4513-423b-b173-5242bb5b2bff"
      },
      "execution_count": null,
      "outputs": [
        {
          "output_type": "stream",
          "name": "stdout",
          "text": [
            "<class 'pandas.core.frame.DataFrame'>\n",
            "RangeIndex: 61 entries, 0 to 60\n",
            "Data columns (total 12 columns):\n",
            " #   Column                                    Non-Null Count  Dtype  \n",
            "---  ------                                    --------------  -----  \n",
            " 0   Year                                      61 non-null     int64  \n",
            " 1   Country Name                              61 non-null     object \n",
            " 2   GDP in USD                                61 non-null     float64\n",
            " 3   GDP per capita current USD                61 non-null     int64  \n",
            " 4   GDP growth annual %                       61 non-null     float64\n",
            " 5   Imports of goods and services % of GDP    61 non-null     float64\n",
            " 6   Exports of goods and services % of GDP    61 non-null     float64\n",
            " 7   Total reserves includes gold current USD  61 non-null     float64\n",
            " 8   Inflation consumer prices annual %        61 non-null     float64\n",
            " 9   Population                                61 non-null     int64  \n",
            " 10  Population growth annual %                61 non-null     float64\n",
            " 11  Life expectancy at birth total years      61 non-null     float64\n",
            "dtypes: float64(8), int64(3), object(1)\n",
            "memory usage: 5.8+ KB\n"
          ]
        }
      ]
    },
    {
      "cell_type": "code",
      "source": [
        "eco_df.describe()"
      ],
      "metadata": {
        "colab": {
          "base_uri": "https://localhost:8080/",
          "height": 379
        },
        "id": "UzhG3OfvZeW6",
        "outputId": "690997d8-d0fd-4eff-e428-3de354fed217"
      },
      "execution_count": null,
      "outputs": [
        {
          "output_type": "execute_result",
          "data": {
            "text/plain": [
              "              Year    GDP in USD  GDP per capita current USD  \\\n",
              "count    61.000000  6.100000e+01                   61.000000   \n",
              "mean   1990.000000  6.584728e+11                  575.557377   \n",
              "std      17.752934  8.129609e+11                  584.079062   \n",
              "min    1960.000000  3.702988e+10                   82.000000   \n",
              "25%    1975.000000  9.952590e+10                  161.000000   \n",
              "50%    1990.000000  2.882080e+11                  340.000000   \n",
              "75%    2005.000000  8.203820e+11                  715.000000   \n",
              "max    2020.000000  2.831550e+12                 2101.000000   \n",
              "\n",
              "       GDP growth annual %  Imports of goods and services % of GDP  \\\n",
              "count            61.000000                               61.000000   \n",
              "mean              4.938197                               12.746393   \n",
              "std               3.344891                                8.155110   \n",
              "min              -7.250000                                3.710000   \n",
              "25%               3.720000                                6.590000   \n",
              "50%               5.530000                                8.570000   \n",
              "75%               7.450000                               19.640000   \n",
              "max               9.630000                               31.260000   \n",
              "\n",
              "       Exports of goods and services % of GDP  \\\n",
              "count                               61.000000   \n",
              "mean                                10.885574   \n",
              "std                                  7.060458   \n",
              "min                                  3.310000   \n",
              "25%                                  5.200000   \n",
              "50%                                  7.050000   \n",
              "75%                                 18.690000   \n",
              "max                                 25.430000   \n",
              "\n",
              "       Total reserves includes gold current USD  \\\n",
              "count                              6.100000e+01   \n",
              "mean                               9.802226e+10   \n",
              "std                                1.497102e+11   \n",
              "min                                4.991451e+08   \n",
              "25%                                2.324650e+09   \n",
              "50%                                1.151174e+10   \n",
              "75%                                1.378250e+11   \n",
              "max                                5.902270e+11   \n",
              "\n",
              "       Inflation consumer prices annual %    Population  \\\n",
              "count                           61.000000  6.100000e+01   \n",
              "mean                             7.413279  8.913946e+08   \n",
              "std                              4.940153  2.974496e+08   \n",
              "min                             -7.630000  4.459546e+08   \n",
              "25%                              4.010000  6.235242e+08   \n",
              "50%                              6.670000  8.704522e+08   \n",
              "75%                             10.020000  1.154639e+09   \n",
              "max                             28.600000  1.396387e+09   \n",
              "\n",
              "       Population growth annual %  Life expectancy at birth total years  \n",
              "count                   61.000000                             61.000000  \n",
              "mean                     1.927705                             57.146230  \n",
              "std                      0.419024                              8.459559  \n",
              "min                      0.960000                             41.130000  \n",
              "25%                      1.620000                             50.630000  \n",
              "50%                      2.150000                             57.660000  \n",
              "75%                      2.260000                             64.310000  \n",
              "max                      2.340000                             69.730000  "
            ],
            "text/html": [
              "\n",
              "  <div id=\"df-8bca66af-78aa-4d38-88fb-583becf9bc40\">\n",
              "    <div class=\"colab-df-container\">\n",
              "      <div>\n",
              "<style scoped>\n",
              "    .dataframe tbody tr th:only-of-type {\n",
              "        vertical-align: middle;\n",
              "    }\n",
              "\n",
              "    .dataframe tbody tr th {\n",
              "        vertical-align: top;\n",
              "    }\n",
              "\n",
              "    .dataframe thead th {\n",
              "        text-align: right;\n",
              "    }\n",
              "</style>\n",
              "<table border=\"1\" class=\"dataframe\">\n",
              "  <thead>\n",
              "    <tr style=\"text-align: right;\">\n",
              "      <th></th>\n",
              "      <th>Year</th>\n",
              "      <th>GDP in USD</th>\n",
              "      <th>GDP per capita current USD</th>\n",
              "      <th>GDP growth annual %</th>\n",
              "      <th>Imports of goods and services % of GDP</th>\n",
              "      <th>Exports of goods and services % of GDP</th>\n",
              "      <th>Total reserves includes gold current USD</th>\n",
              "      <th>Inflation consumer prices annual %</th>\n",
              "      <th>Population</th>\n",
              "      <th>Population growth annual %</th>\n",
              "      <th>Life expectancy at birth total years</th>\n",
              "    </tr>\n",
              "  </thead>\n",
              "  <tbody>\n",
              "    <tr>\n",
              "      <th>count</th>\n",
              "      <td>61.000000</td>\n",
              "      <td>6.100000e+01</td>\n",
              "      <td>61.000000</td>\n",
              "      <td>61.000000</td>\n",
              "      <td>61.000000</td>\n",
              "      <td>61.000000</td>\n",
              "      <td>6.100000e+01</td>\n",
              "      <td>61.000000</td>\n",
              "      <td>6.100000e+01</td>\n",
              "      <td>61.000000</td>\n",
              "      <td>61.000000</td>\n",
              "    </tr>\n",
              "    <tr>\n",
              "      <th>mean</th>\n",
              "      <td>1990.000000</td>\n",
              "      <td>6.584728e+11</td>\n",
              "      <td>575.557377</td>\n",
              "      <td>4.938197</td>\n",
              "      <td>12.746393</td>\n",
              "      <td>10.885574</td>\n",
              "      <td>9.802226e+10</td>\n",
              "      <td>7.413279</td>\n",
              "      <td>8.913946e+08</td>\n",
              "      <td>1.927705</td>\n",
              "      <td>57.146230</td>\n",
              "    </tr>\n",
              "    <tr>\n",
              "      <th>std</th>\n",
              "      <td>17.752934</td>\n",
              "      <td>8.129609e+11</td>\n",
              "      <td>584.079062</td>\n",
              "      <td>3.344891</td>\n",
              "      <td>8.155110</td>\n",
              "      <td>7.060458</td>\n",
              "      <td>1.497102e+11</td>\n",
              "      <td>4.940153</td>\n",
              "      <td>2.974496e+08</td>\n",
              "      <td>0.419024</td>\n",
              "      <td>8.459559</td>\n",
              "    </tr>\n",
              "    <tr>\n",
              "      <th>min</th>\n",
              "      <td>1960.000000</td>\n",
              "      <td>3.702988e+10</td>\n",
              "      <td>82.000000</td>\n",
              "      <td>-7.250000</td>\n",
              "      <td>3.710000</td>\n",
              "      <td>3.310000</td>\n",
              "      <td>4.991451e+08</td>\n",
              "      <td>-7.630000</td>\n",
              "      <td>4.459546e+08</td>\n",
              "      <td>0.960000</td>\n",
              "      <td>41.130000</td>\n",
              "    </tr>\n",
              "    <tr>\n",
              "      <th>25%</th>\n",
              "      <td>1975.000000</td>\n",
              "      <td>9.952590e+10</td>\n",
              "      <td>161.000000</td>\n",
              "      <td>3.720000</td>\n",
              "      <td>6.590000</td>\n",
              "      <td>5.200000</td>\n",
              "      <td>2.324650e+09</td>\n",
              "      <td>4.010000</td>\n",
              "      <td>6.235242e+08</td>\n",
              "      <td>1.620000</td>\n",
              "      <td>50.630000</td>\n",
              "    </tr>\n",
              "    <tr>\n",
              "      <th>50%</th>\n",
              "      <td>1990.000000</td>\n",
              "      <td>2.882080e+11</td>\n",
              "      <td>340.000000</td>\n",
              "      <td>5.530000</td>\n",
              "      <td>8.570000</td>\n",
              "      <td>7.050000</td>\n",
              "      <td>1.151174e+10</td>\n",
              "      <td>6.670000</td>\n",
              "      <td>8.704522e+08</td>\n",
              "      <td>2.150000</td>\n",
              "      <td>57.660000</td>\n",
              "    </tr>\n",
              "    <tr>\n",
              "      <th>75%</th>\n",
              "      <td>2005.000000</td>\n",
              "      <td>8.203820e+11</td>\n",
              "      <td>715.000000</td>\n",
              "      <td>7.450000</td>\n",
              "      <td>19.640000</td>\n",
              "      <td>18.690000</td>\n",
              "      <td>1.378250e+11</td>\n",
              "      <td>10.020000</td>\n",
              "      <td>1.154639e+09</td>\n",
              "      <td>2.260000</td>\n",
              "      <td>64.310000</td>\n",
              "    </tr>\n",
              "    <tr>\n",
              "      <th>max</th>\n",
              "      <td>2020.000000</td>\n",
              "      <td>2.831550e+12</td>\n",
              "      <td>2101.000000</td>\n",
              "      <td>9.630000</td>\n",
              "      <td>31.260000</td>\n",
              "      <td>25.430000</td>\n",
              "      <td>5.902270e+11</td>\n",
              "      <td>28.600000</td>\n",
              "      <td>1.396387e+09</td>\n",
              "      <td>2.340000</td>\n",
              "      <td>69.730000</td>\n",
              "    </tr>\n",
              "  </tbody>\n",
              "</table>\n",
              "</div>\n",
              "      <button class=\"colab-df-convert\" onclick=\"convertToInteractive('df-8bca66af-78aa-4d38-88fb-583becf9bc40')\"\n",
              "              title=\"Convert this dataframe to an interactive table.\"\n",
              "              style=\"display:none;\">\n",
              "        \n",
              "  <svg xmlns=\"http://www.w3.org/2000/svg\" height=\"24px\"viewBox=\"0 0 24 24\"\n",
              "       width=\"24px\">\n",
              "    <path d=\"M0 0h24v24H0V0z\" fill=\"none\"/>\n",
              "    <path d=\"M18.56 5.44l.94 2.06.94-2.06 2.06-.94-2.06-.94-.94-2.06-.94 2.06-2.06.94zm-11 1L8.5 8.5l.94-2.06 2.06-.94-2.06-.94L8.5 2.5l-.94 2.06-2.06.94zm10 10l.94 2.06.94-2.06 2.06-.94-2.06-.94-.94-2.06-.94 2.06-2.06.94z\"/><path d=\"M17.41 7.96l-1.37-1.37c-.4-.4-.92-.59-1.43-.59-.52 0-1.04.2-1.43.59L10.3 9.45l-7.72 7.72c-.78.78-.78 2.05 0 2.83L4 21.41c.39.39.9.59 1.41.59.51 0 1.02-.2 1.41-.59l7.78-7.78 2.81-2.81c.8-.78.8-2.07 0-2.86zM5.41 20L4 18.59l7.72-7.72 1.47 1.35L5.41 20z\"/>\n",
              "  </svg>\n",
              "      </button>\n",
              "      \n",
              "  <style>\n",
              "    .colab-df-container {\n",
              "      display:flex;\n",
              "      flex-wrap:wrap;\n",
              "      gap: 12px;\n",
              "    }\n",
              "\n",
              "    .colab-df-convert {\n",
              "      background-color: #E8F0FE;\n",
              "      border: none;\n",
              "      border-radius: 50%;\n",
              "      cursor: pointer;\n",
              "      display: none;\n",
              "      fill: #1967D2;\n",
              "      height: 32px;\n",
              "      padding: 0 0 0 0;\n",
              "      width: 32px;\n",
              "    }\n",
              "\n",
              "    .colab-df-convert:hover {\n",
              "      background-color: #E2EBFA;\n",
              "      box-shadow: 0px 1px 2px rgba(60, 64, 67, 0.3), 0px 1px 3px 1px rgba(60, 64, 67, 0.15);\n",
              "      fill: #174EA6;\n",
              "    }\n",
              "\n",
              "    [theme=dark] .colab-df-convert {\n",
              "      background-color: #3B4455;\n",
              "      fill: #D2E3FC;\n",
              "    }\n",
              "\n",
              "    [theme=dark] .colab-df-convert:hover {\n",
              "      background-color: #434B5C;\n",
              "      box-shadow: 0px 1px 3px 1px rgba(0, 0, 0, 0.15);\n",
              "      filter: drop-shadow(0px 1px 2px rgba(0, 0, 0, 0.3));\n",
              "      fill: #FFFFFF;\n",
              "    }\n",
              "  </style>\n",
              "\n",
              "      <script>\n",
              "        const buttonEl =\n",
              "          document.querySelector('#df-8bca66af-78aa-4d38-88fb-583becf9bc40 button.colab-df-convert');\n",
              "        buttonEl.style.display =\n",
              "          google.colab.kernel.accessAllowed ? 'block' : 'none';\n",
              "\n",
              "        async function convertToInteractive(key) {\n",
              "          const element = document.querySelector('#df-8bca66af-78aa-4d38-88fb-583becf9bc40');\n",
              "          const dataTable =\n",
              "            await google.colab.kernel.invokeFunction('convertToInteractive',\n",
              "                                                     [key], {});\n",
              "          if (!dataTable) return;\n",
              "\n",
              "          const docLinkHtml = 'Like what you see? Visit the ' +\n",
              "            '<a target=\"_blank\" href=https://colab.research.google.com/notebooks/data_table.ipynb>data table notebook</a>'\n",
              "            + ' to learn more about interactive tables.';\n",
              "          element.innerHTML = '';\n",
              "          dataTable['output_type'] = 'display_data';\n",
              "          await google.colab.output.renderOutput(dataTable, element);\n",
              "          const docLink = document.createElement('div');\n",
              "          docLink.innerHTML = docLinkHtml;\n",
              "          element.appendChild(docLink);\n",
              "        }\n",
              "      </script>\n",
              "    </div>\n",
              "  </div>\n",
              "  "
            ]
          },
          "metadata": {},
          "execution_count": 5
        }
      ]
    },
    {
      "cell_type": "markdown",
      "source": [
        "Observations:\n",
        "* GDP per capita(current as $) Maximum is 2101.00\n",
        "* GDP maxmimum grouth rate is 9.63 %\n",
        "* GDP per capita minimum is 82.00\n",
        "* Average GDP per capita is 575.00\n",
        "* Maximum GDP is 2.83 USD in 2020\n",
        "\n",
        "Import and Export Goods %\n",
        "\n",
        "* Average imports is 12 %\n",
        "* Average export is 10.88 %\n",
        "\n",
        "Population: \n",
        "\n",
        "* 1.39 Bilion\n",
        "* average grouth rate of population is 1.92%\n",
        "* Population grouth rate has maximum 2.34 % in the same year."
      ],
      "metadata": {
        "id": "kkaW0DbdZ1xS"
      }
    },
    {
      "cell_type": "code",
      "source": [
        "# let's check null value in this dataset\n",
        "eco_df.isnull().sum() "
      ],
      "metadata": {
        "colab": {
          "base_uri": "https://localhost:8080/"
        },
        "id": "_lglcKF6b9L7",
        "outputId": "d05d5972-d65d-43b8-a602-2c8065464455"
      },
      "execution_count": null,
      "outputs": [
        {
          "output_type": "execute_result",
          "data": {
            "text/plain": [
              "Year                                        0\n",
              "Country Name                                0\n",
              "GDP in USD                                  0\n",
              "GDP per capita current USD                  0\n",
              "GDP growth annual %                         0\n",
              "Imports of goods and services % of GDP      0\n",
              "Exports of goods and services % of GDP      0\n",
              "Total reserves includes gold current USD    0\n",
              "Inflation consumer prices annual %          0\n",
              "Population                                  0\n",
              "Population growth annual %                  0\n",
              "Life expectancy at birth total years        0\n",
              "dtype: int64"
            ]
          },
          "metadata": {},
          "execution_count": 6
        }
      ]
    },
    {
      "cell_type": "markdown",
      "source": [
        "\n",
        "As we have checked there is  no null values in this dataset"
      ],
      "metadata": {
        "id": "-H4_WKDkcSKI"
      }
    },
    {
      "cell_type": "code",
      "source": [
        "# Lets see how many year of data we have to analize.\n",
        "eco_df.Year"
      ],
      "metadata": {
        "colab": {
          "base_uri": "https://localhost:8080/"
        },
        "id": "XXpWYfRRcuZG",
        "outputId": "91b19780-4d99-4bff-babf-1edc28142adb"
      },
      "execution_count": null,
      "outputs": [
        {
          "output_type": "execute_result",
          "data": {
            "text/plain": [
              "0     1960\n",
              "1     1961\n",
              "2     1962\n",
              "3     1963\n",
              "4     1964\n",
              "      ... \n",
              "56    2016\n",
              "57    2017\n",
              "58    2018\n",
              "59    2019\n",
              "60    2020\n",
              "Name: Year, Length: 61, dtype: int64"
            ]
          },
          "metadata": {},
          "execution_count": 7
        }
      ]
    },
    {
      "cell_type": "code",
      "source": [
        "# Let's check how many columns we have \n",
        "eco_df.columns\n",
        "# #len(eco_df.columns)\n",
        "# def remove_spaces(str):\n",
        "#   return str.strip();\n",
        "\n",
        "# columns = list(eco_df.columns)\n",
        "\n",
        "# filtred_column = map(remove_spaces, columns);\n",
        "# print(list(filtred_column))"
      ],
      "metadata": {
        "colab": {
          "base_uri": "https://localhost:8080/"
        },
        "id": "B8wkp-OWe7gU",
        "outputId": "734a68ba-a354-44e7-e2bc-2ed80ced20b7"
      },
      "execution_count": null,
      "outputs": [
        {
          "output_type": "execute_result",
          "data": {
            "text/plain": [
              "Index(['Year', 'Country Name', 'GDP in USD', 'GDP per capita current USD',\n",
              "       'GDP growth annual %', 'Imports of goods and services % of GDP',\n",
              "       'Exports of goods and services % of GDP',\n",
              "       'Total reserves includes gold current USD',\n",
              "       'Inflation consumer prices annual %', 'Population',\n",
              "       'Population growth annual %', 'Life expectancy at birth total years'],\n",
              "      dtype='object')"
            ]
          },
          "metadata": {},
          "execution_count": 8
        }
      ]
    },
    {
      "cell_type": "code",
      "source": [
        "Group = eco_df.groupby('GDP growth annual %')\n",
        "x = Group['Year'].agg(np.mean)\n",
        "y = Group['GDP in USD'].agg(np.sum)\n",
        "z = Group['GDP per capita current USD'].agg(np.mean)\n",
        "\n",
        "print(x)\n",
        "#print(y)\n",
        "#print(z)\n"
      ],
      "metadata": {
        "id": "vJIGbrhnjCdv",
        "colab": {
          "base_uri": "https://localhost:8080/"
        },
        "outputId": "c79aa979-5460-4d2b-8098-4fecac8a43e5"
      },
      "execution_count": null,
      "outputs": [
        {
          "output_type": "stream",
          "name": "stdout",
          "text": [
            "GDP growth annual %\n",
            "-7.25    2020.0\n",
            "-5.24    1979.0\n",
            "-2.64    1965.0\n",
            "-0.55    1972.0\n",
            "-0.06    1966.0\n",
            " 0.00    1960.0\n",
            " 1.06    1991.0\n",
            " 1.19    1974.0\n",
            " 1.64    1971.0\n",
            " 1.66    1976.0\n",
            " 2.93    1962.0\n",
            " 3.09    2008.0\n",
            " 3.30    1973.0\n",
            " 3.39    1968.0\n",
            " 3.48    1982.0\n",
            " 3.72    1961.0\n",
            " 3.80    2002.0\n",
            " 3.82    1984.0\n",
            " 3.84    2000.0\n",
            " 3.97    1987.0\n",
            " 4.04    2019.0\n",
            " 4.05    1997.0\n",
            " 4.75    1993.0\n",
            " 4.78    1986.0\n",
            " 4.82    2001.0\n",
            " 5.16    1970.0\n",
            " 5.24    2011.0\n",
            " 5.25    1985.0\n",
            " 5.46    2012.0\n",
            " 5.48    1992.0\n",
            " 5.53    1990.0\n",
            " 5.71    1978.0\n",
            " 5.95    1989.0\n",
            " 5.99    1963.0\n",
            " 6.01    1981.0\n",
            " 6.18    1998.0\n",
            " 6.39    2013.0\n",
            " 6.53    2018.0\n",
            " 6.54    1969.0\n",
            " 6.66    1994.0\n",
            " 6.74    1980.0\n",
            " 6.80    2017.0\n",
            " 7.25    1977.0\n",
            " 7.29    1983.0\n",
            " 7.41    2014.0\n",
            " 7.45    1964.0\n",
            " 7.55    1996.0\n",
            " 7.57    1995.0\n",
            " 7.66    2007.0\n",
            " 7.83    1967.0\n",
            " 7.86    2006.0\n",
            " 7.92    2004.5\n",
            " 8.00    2015.0\n",
            " 8.06    2006.0\n",
            " 8.26    2016.0\n",
            " 8.50    2010.0\n",
            " 8.85    1999.0\n",
            " 9.15    1975.0\n",
            " 9.63    1988.0\n",
            "Name: Year, dtype: float64\n"
          ]
        }
      ]
    },
    {
      "cell_type": "code",
      "source": [
        "plt.figure(figsize=(16, 5))\n",
        "plt.plot(x, 'r^', color= 'blue')\n",
        "plt.xticks(rotation=90)\n",
        "plt.title('GDP growth annual % and Year')\n",
        "plt.xlabel('GDP growth annual %---->')\n",
        "plt.ylabel('Year---->')\n",
        "plt.show()"
      ],
      "metadata": {
        "id": "izKPTY_VoFoZ",
        "colab": {
          "base_uri": "https://localhost:8080/",
          "height": 372
        },
        "outputId": "0723ba0c-6848-430e-eaa4-d33fda7548e4"
      },
      "execution_count": null,
      "outputs": [
        {
          "output_type": "display_data",
          "data": {
            "text/plain": [
              "<Figure size 1152x360 with 1 Axes>"
            ],
            "image/png": "[encoded data removed]"
          },
          "metadata": {
            "needs_background": "light"
          }
        }
      ]
    },
    {
      "cell_type": "code",
      "source": [
        "plt.figure(figsize=(16, 5))\n",
        "plt.plot(y , '^--', color= 'r')\n",
        "plt.xticks(rotation=90)\n",
        "plt.title('GDP per capita current USD and Year')\n",
        "plt.xlabel('GDP per capita current USD---->')\n",
        "plt.ylabel('Year----->')\n",
        "plt.show()"
      ],
      "metadata": {
        "id": "TJIS3e7omlrT",
        "colab": {
          "base_uri": "https://localhost:8080/",
          "height": 372
        },
        "outputId": "e37dc28e-d01f-4662-bc7b-fba96f988e1d"
      },
      "execution_count": null,
      "outputs": [
        {
          "output_type": "display_data",
          "data": {
            "text/plain": [
              "<Figure size 1152x360 with 1 Axes>"
            ],
            "image/png": "[encoded data removed]"
          },
          "metadata": {
            "needs_background": "light"
          }
        }
      ]
    },
    {
      "cell_type": "code",
      "source": [
        "x_1 = eco_df['GDP in USD']\n",
        "y_1 = eco_df['Year']\n",
        "z_1 = eco_df['GDP growth annual %']\n",
        "\n",
        "# x = np.array([x_1])\n",
        "# y = np.array([y_1])\n",
        "# z = np.array([z_1])\n",
        "\n",
        "\n",
        "plt.figure(figsize=(18,6))\n",
        "plt.plot(x_1, y_1)\n",
        "plt.title('GDP growth annual', fontsize = 15, color='blue')\n",
        "plt.xticks(rotation=90)\n",
        "plt.xlabel('GDP growth annual %')\n",
        "plt.ylabel('Year')\n",
        "plt.show()"
      ],
      "metadata": {
        "id": "P6AT6E5cj76G",
        "colab": {
          "base_uri": "https://localhost:8080/",
          "height": 419
        },
        "outputId": "6510d75a-2eb5-4126-a548-4983302a6d9d"
      },
      "execution_count": null,
      "outputs": [
        {
          "output_type": "display_data",
          "data": {
            "text/plain": [
              "<Figure size 1296x432 with 1 Axes>"
            ],
            "image/png": "[encoded data removed]"
          },
          "metadata": {}
        }
      ]
    },
    {
      "cell_type": "markdown",
      "source": [
        "Observations:\n",
        "\n",
        "* in this plot we can see how Indias GDP has grown yearly\n",
        "from the year of 1960 to 2020."
      ],
      "metadata": {
        "id": "khgUPW8CkxP0"
      }
    },
    {
      "cell_type": "code",
      "source": [],
      "metadata": {
        "id": "9Re71mluRFm_"
      },
      "execution_count": null,
      "outputs": []
    }
  ]
}